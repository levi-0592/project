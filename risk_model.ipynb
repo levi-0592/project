{
 "cells": [
  {
   "cell_type": "markdown",
   "metadata": {},
   "source": [
    "项目背景：\n",
    "当今租赁行业通常会衍生出一些金融产品，比如蘑菇租房，贝壳找房，租房客户需要去平台上找房子，然后付租金，所以对于租赁行业，需要和金融公司合作来提供不同的支付方式，租房客户并不是把租金直接付给房东，而是先让金融公司付给，而租赁公司相当于去银行贷款，然后租赁公司再偿还金融公司的本金和利息。客户在支付房租的时候可以选择支付方式，比如可以选择自己付房租，也可以选择让第三方金融公司先付部分房租。\n",
    "数据集：该数据集为某房屋租赁公司C单的客户数据。\n",
    "项目需求：\n",
    "评估租房客户信用贷款是否会逾期，来决定是否放贷给客户房贷\n",
    "项目思路：\n",
    "使用机器学习算法建立模型，对客户进行分类\n",
    "这里选取的用户特征为芝麻信用分数、借款本金、借款利息。\n",
    "算法选择：逻辑回归和随机森林"
   ]
  },
  {
   "cell_type": "code",
   "execution_count": 1,
   "metadata": {
    "collapsed": true
   },
   "outputs": [],
   "source": [
    "import pandas as pd\n",
    "from sklearn.model_selection import train_test_split # 划分数据集"
   ]
  },
  {
   "cell_type": "code",
   "execution_count": 2,
   "metadata": {
    "collapsed": true
   },
   "outputs": [],
   "source": [
    "from sklearn.ensemble import RandomForestClassifier  # 随机森林分类器"
   ]
  },
  {
   "cell_type": "code",
   "execution_count": 3,
   "metadata": {
    "collapsed": true
   },
   "outputs": [],
   "source": [
    "from sklearn.model_selection import GridSearchCV # 调参  超参数搜索，网格搜索"
   ]
  },
  {
   "cell_type": "code",
   "execution_count": 4,
   "metadata": {
    "collapsed": true
   },
   "outputs": [],
   "source": [
    "from sklearn.linear_model import LogisticRegression  # 逻辑回归"
   ]
  },
  {
   "cell_type": "code",
   "execution_count": 5,
   "metadata": {
    "collapsed": true
   },
   "outputs": [],
   "source": [
    "data=pd.read_csv(r\"D:\\note\\FengXianYuCe\\data.csv\")"
   ]
  },
  {
   "cell_type": "code",
   "execution_count": 6,
   "metadata": {},
   "outputs": [
    {
     "data": {
      "text/html": [
       "<div>\n",
       "<style>\n",
       "    .dataframe thead tr:only-child th {\n",
       "        text-align: right;\n",
       "    }\n",
       "\n",
       "    .dataframe thead th {\n",
       "        text-align: left;\n",
       "    }\n",
       "\n",
       "    .dataframe tbody tr th {\n",
       "        vertical-align: top;\n",
       "    }\n",
       "</style>\n",
       "<table border=\"1\" class=\"dataframe\">\n",
       "  <thead>\n",
       "    <tr style=\"text-align: right;\">\n",
       "      <th></th>\n",
       "      <th>0</th>\n",
       "      <th>1</th>\n",
       "      <th>2</th>\n",
       "      <th>3</th>\n",
       "      <th>4</th>\n",
       "    </tr>\n",
       "  </thead>\n",
       "  <tbody>\n",
       "    <tr>\n",
       "      <th>id</th>\n",
       "      <td>322583</td>\n",
       "      <td>386885</td>\n",
       "      <td>366671</td>\n",
       "      <td>318605</td>\n",
       "      <td>195278</td>\n",
       "    </tr>\n",
       "    <tr>\n",
       "      <th>overduestatus</th>\n",
       "      <td>0</td>\n",
       "      <td>0</td>\n",
       "      <td>0</td>\n",
       "      <td>0</td>\n",
       "      <td>0</td>\n",
       "    </tr>\n",
       "    <tr>\n",
       "      <th>loanid</th>\n",
       "      <td>73967</td>\n",
       "      <td>95399</td>\n",
       "      <td>88661</td>\n",
       "      <td>72641</td>\n",
       "      <td>31517</td>\n",
       "    </tr>\n",
       "    <tr>\n",
       "      <th>renterid</th>\n",
       "      <td>33793799</td>\n",
       "      <td>33051527</td>\n",
       "      <td>34211951</td>\n",
       "      <td>31373835</td>\n",
       "      <td>32746433</td>\n",
       "    </tr>\n",
       "    <tr>\n",
       "      <th>landlordid</th>\n",
       "      <td>3132391</td>\n",
       "      <td>3132115</td>\n",
       "      <td>3142398</td>\n",
       "      <td>3139356</td>\n",
       "      <td>3125326</td>\n",
       "    </tr>\n",
       "    <tr>\n",
       "      <th>cityid</th>\n",
       "      <td>268</td>\n",
       "      <td>127</td>\n",
       "      <td>315</td>\n",
       "      <td>340</td>\n",
       "      <td>268</td>\n",
       "    </tr>\n",
       "    <tr>\n",
       "      <th>capitalamount</th>\n",
       "      <td>1608</td>\n",
       "      <td>586.66</td>\n",
       "      <td>586.66</td>\n",
       "      <td>487.33</td>\n",
       "      <td>950</td>\n",
       "    </tr>\n",
       "    <tr>\n",
       "      <th>payfeeamount</th>\n",
       "      <td>49.31</td>\n",
       "      <td>17.8</td>\n",
       "      <td>17.8</td>\n",
       "      <td>14.95</td>\n",
       "      <td>29.14</td>\n",
       "    </tr>\n",
       "    <tr>\n",
       "      <th>deadline</th>\n",
       "      <td>2018/10/22</td>\n",
       "      <td>2018/10/18</td>\n",
       "      <td>2018/10/8</td>\n",
       "      <td>2018/10/20</td>\n",
       "      <td>2018/9/23</td>\n",
       "    </tr>\n",
       "    <tr>\n",
       "      <th>periodstage</th>\n",
       "      <td>2</td>\n",
       "      <td>1</td>\n",
       "      <td>1</td>\n",
       "      <td>2</td>\n",
       "      <td>3</td>\n",
       "    </tr>\n",
       "    <tr>\n",
       "      <th>lendamount</th>\n",
       "      <td>4824</td>\n",
       "      <td>1760</td>\n",
       "      <td>1760</td>\n",
       "      <td>1462</td>\n",
       "      <td>2850</td>\n",
       "    </tr>\n",
       "    <tr>\n",
       "      <th>remainamount</th>\n",
       "      <td>4971.94</td>\n",
       "      <td>1813.39</td>\n",
       "      <td>1813.39</td>\n",
       "      <td>1506.84</td>\n",
       "      <td>0</td>\n",
       "    </tr>\n",
       "    <tr>\n",
       "      <th>lenddate</th>\n",
       "      <td>2018/8/22 00:00</td>\n",
       "      <td>2018/9/18 00:00</td>\n",
       "      <td>2018/9/8 00:00</td>\n",
       "      <td>2018/8/20 00:00</td>\n",
       "      <td>2018/6/23 00:00</td>\n",
       "    </tr>\n",
       "    <tr>\n",
       "      <th>subsid</th>\n",
       "      <td>8.98667e+06</td>\n",
       "      <td>8.35399e+06</td>\n",
       "      <td>9.19088e+06</td>\n",
       "      <td>6.61228e+06</td>\n",
       "      <td>8.03362e+06</td>\n",
       "    </tr>\n",
       "    <tr>\n",
       "      <th>salecontractid</th>\n",
       "      <td>1.0042e+07</td>\n",
       "      <td>9.30733e+06</td>\n",
       "      <td>1.03617e+07</td>\n",
       "      <td>1.004e+07</td>\n",
       "      <td>8.93533e+06</td>\n",
       "    </tr>\n",
       "    <tr>\n",
       "      <th>is_reservation</th>\n",
       "      <td>0</td>\n",
       "      <td>0</td>\n",
       "      <td>0</td>\n",
       "      <td>0</td>\n",
       "      <td>0</td>\n",
       "    </tr>\n",
       "    <tr>\n",
       "      <th>is_book</th>\n",
       "      <td>0</td>\n",
       "      <td>0</td>\n",
       "      <td>1</td>\n",
       "      <td>0</td>\n",
       "      <td>0</td>\n",
       "    </tr>\n",
       "    <tr>\n",
       "      <th>reg_channel</th>\n",
       "      <td>5</td>\n",
       "      <td>18</td>\n",
       "      <td>5</td>\n",
       "      <td>18</td>\n",
       "      <td>18</td>\n",
       "    </tr>\n",
       "    <tr>\n",
       "      <th>is_changeroom</th>\n",
       "      <td>0</td>\n",
       "      <td>0</td>\n",
       "      <td>0</td>\n",
       "      <td>0</td>\n",
       "      <td>0</td>\n",
       "    </tr>\n",
       "    <tr>\n",
       "      <th>is_renew</th>\n",
       "      <td>0</td>\n",
       "      <td>0</td>\n",
       "      <td>0</td>\n",
       "      <td>1</td>\n",
       "      <td>0</td>\n",
       "    </tr>\n",
       "    <tr>\n",
       "      <th>leaseterm</th>\n",
       "      <td>NaN</td>\n",
       "      <td>NaN</td>\n",
       "      <td>NaN</td>\n",
       "      <td>NaN</td>\n",
       "      <td>NaN</td>\n",
       "    </tr>\n",
       "    <tr>\n",
       "      <th>rentpaytype</th>\n",
       "      <td>1</td>\n",
       "      <td>11</td>\n",
       "      <td>1</td>\n",
       "      <td>6</td>\n",
       "      <td>1</td>\n",
       "    </tr>\n",
       "    <tr>\n",
       "      <th>has_emergencycontact</th>\n",
       "      <td>0</td>\n",
       "      <td>0</td>\n",
       "      <td>0</td>\n",
       "      <td>0</td>\n",
       "      <td>0</td>\n",
       "    </tr>\n",
       "    <tr>\n",
       "      <th>turnstrtus</th>\n",
       "      <td>1</td>\n",
       "      <td>1</td>\n",
       "      <td>1</td>\n",
       "      <td>0</td>\n",
       "      <td>1</td>\n",
       "    </tr>\n",
       "    <tr>\n",
       "      <th>deposit</th>\n",
       "      <td>940</td>\n",
       "      <td>850</td>\n",
       "      <td>880</td>\n",
       "      <td>76</td>\n",
       "      <td>950</td>\n",
       "    </tr>\n",
       "    <tr>\n",
       "      <th>renterid(1)</th>\n",
       "      <td>33793799</td>\n",
       "      <td>33051527</td>\n",
       "      <td>34211951</td>\n",
       "      <td>31373835</td>\n",
       "      <td>32746433</td>\n",
       "    </tr>\n",
       "    <tr>\n",
       "      <th>age</th>\n",
       "      <td>22</td>\n",
       "      <td>23</td>\n",
       "      <td>27</td>\n",
       "      <td>22</td>\n",
       "      <td>22</td>\n",
       "    </tr>\n",
       "    <tr>\n",
       "      <th>native_region</th>\n",
       "      <td>21</td>\n",
       "      <td>34</td>\n",
       "      <td>23</td>\n",
       "      <td>44</td>\n",
       "      <td>41</td>\n",
       "    </tr>\n",
       "    <tr>\n",
       "      <th>rentergender</th>\n",
       "      <td>2</td>\n",
       "      <td>1</td>\n",
       "      <td>1</td>\n",
       "      <td>1</td>\n",
       "      <td>1</td>\n",
       "    </tr>\n",
       "    <tr>\n",
       "      <th>zhimascore</th>\n",
       "      <td>693</td>\n",
       "      <td>662</td>\n",
       "      <td>671</td>\n",
       "      <td>698</td>\n",
       "      <td>688</td>\n",
       "    </tr>\n",
       "    <tr>\n",
       "      <th>has_relationaccount</th>\n",
       "      <td>1</td>\n",
       "      <td>1</td>\n",
       "      <td>1</td>\n",
       "      <td>1</td>\n",
       "      <td>1</td>\n",
       "    </tr>\n",
       "    <tr>\n",
       "      <th>channel</th>\n",
       "      <td>11</td>\n",
       "      <td>1</td>\n",
       "      <td>11</td>\n",
       "      <td>11</td>\n",
       "      <td>11</td>\n",
       "    </tr>\n",
       "    <tr>\n",
       "      <th>createtime</th>\n",
       "      <td>2018/8/22 17:40</td>\n",
       "      <td>2018/9/18 14:32</td>\n",
       "      <td>2018/9/8 18:41</td>\n",
       "      <td>2018/7/20 19:38</td>\n",
       "      <td>2018/6/23 19:33</td>\n",
       "    </tr>\n",
       "    <tr>\n",
       "      <th>creditlimit</th>\n",
       "      <td>8000</td>\n",
       "      <td>8000</td>\n",
       "      <td>8000</td>\n",
       "      <td>8000</td>\n",
       "      <td>8000</td>\n",
       "    </tr>\n",
       "    <tr>\n",
       "      <th>remaincreditamount</th>\n",
       "      <td>6392</td>\n",
       "      <td>6826.66</td>\n",
       "      <td>5833.32</td>\n",
       "      <td>6599.92</td>\n",
       "      <td>6030</td>\n",
       "    </tr>\n",
       "    <tr>\n",
       "      <th>creditstatus</th>\n",
       "      <td>1</td>\n",
       "      <td>1</td>\n",
       "      <td>1</td>\n",
       "      <td>1</td>\n",
       "      <td>1</td>\n",
       "    </tr>\n",
       "    <tr>\n",
       "      <th>relationaccounttype</th>\n",
       "      <td>2</td>\n",
       "      <td>1</td>\n",
       "      <td>2</td>\n",
       "      <td>2</td>\n",
       "      <td>2</td>\n",
       "    </tr>\n",
       "  </tbody>\n",
       "</table>\n",
       "</div>"
      ],
      "text/plain": [
       "                                    0                1               2  \\\n",
       "id                             322583           386885          366671   \n",
       "overduestatus                       0                0               0   \n",
       "loanid                          73967            95399           88661   \n",
       "renterid                     33793799         33051527        34211951   \n",
       "landlordid                    3132391          3132115         3142398   \n",
       "cityid                            268              127             315   \n",
       "capitalamount                    1608           586.66          586.66   \n",
       "payfeeamount                    49.31             17.8            17.8   \n",
       "deadline                   2018/10/22       2018/10/18       2018/10/8   \n",
       "periodstage                         2                1               1   \n",
       "lendamount                       4824             1760            1760   \n",
       "remainamount                  4971.94          1813.39         1813.39   \n",
       "lenddate              2018/8/22 00:00  2018/9/18 00:00  2018/9/8 00:00   \n",
       "subsid                    8.98667e+06      8.35399e+06     9.19088e+06   \n",
       "salecontractid             1.0042e+07      9.30733e+06     1.03617e+07   \n",
       "is_reservation                      0                0               0   \n",
       "is_book                             0                0               1   \n",
       "reg_channel                         5               18               5   \n",
       "is_changeroom                       0                0               0   \n",
       "is_renew                            0                0               0   \n",
       "leaseterm                         NaN              NaN             NaN   \n",
       "rentpaytype                         1               11               1   \n",
       "has_emergencycontact                0                0               0   \n",
       "turnstrtus                          1                1               1   \n",
       "deposit                           940              850             880   \n",
       "renterid(1)                  33793799         33051527        34211951   \n",
       "age                                22               23              27   \n",
       "native_region                      21               34              23   \n",
       "rentergender                        2                1               1   \n",
       "zhimascore                        693              662             671   \n",
       "has_relationaccount                 1                1               1   \n",
       "channel                            11                1              11   \n",
       "createtime            2018/8/22 17:40  2018/9/18 14:32  2018/9/8 18:41   \n",
       "creditlimit                      8000             8000            8000   \n",
       "remaincreditamount               6392          6826.66         5833.32   \n",
       "creditstatus                        1                1               1   \n",
       "relationaccounttype                 2                1               2   \n",
       "\n",
       "                                    3                4  \n",
       "id                             318605           195278  \n",
       "overduestatus                       0                0  \n",
       "loanid                          72641            31517  \n",
       "renterid                     31373835         32746433  \n",
       "landlordid                    3139356          3125326  \n",
       "cityid                            340              268  \n",
       "capitalamount                  487.33              950  \n",
       "payfeeamount                    14.95            29.14  \n",
       "deadline                   2018/10/20        2018/9/23  \n",
       "periodstage                         2                3  \n",
       "lendamount                       1462             2850  \n",
       "remainamount                  1506.84                0  \n",
       "lenddate              2018/8/20 00:00  2018/6/23 00:00  \n",
       "subsid                    6.61228e+06      8.03362e+06  \n",
       "salecontractid              1.004e+07      8.93533e+06  \n",
       "is_reservation                      0                0  \n",
       "is_book                             0                0  \n",
       "reg_channel                        18               18  \n",
       "is_changeroom                       0                0  \n",
       "is_renew                            1                0  \n",
       "leaseterm                         NaN              NaN  \n",
       "rentpaytype                         6                1  \n",
       "has_emergencycontact                0                0  \n",
       "turnstrtus                          0                1  \n",
       "deposit                            76              950  \n",
       "renterid(1)                  31373835         32746433  \n",
       "age                                22               22  \n",
       "native_region                      44               41  \n",
       "rentergender                        1                1  \n",
       "zhimascore                        698              688  \n",
       "has_relationaccount                 1                1  \n",
       "channel                            11               11  \n",
       "createtime            2018/7/20 19:38  2018/6/23 19:33  \n",
       "creditlimit                      8000             8000  \n",
       "remaincreditamount            6599.92             6030  \n",
       "creditstatus                        1                1  \n",
       "relationaccounttype                 2                2  "
      ]
     },
     "execution_count": 6,
     "metadata": {},
     "output_type": "execute_result"
    }
   ],
   "source": [
    "data.head().T"
   ]
  },
  {
   "cell_type": "code",
   "execution_count": 7,
   "metadata": {},
   "outputs": [
    {
     "name": "stdout",
     "output_type": "stream",
     "text": [
      "<class 'pandas.core.frame.DataFrame'>\n",
      "RangeIndex: 27713 entries, 0 to 27712\n",
      "Data columns (total 37 columns):\n",
      "id                      27713 non-null int64\n",
      "overduestatus           27713 non-null int64\n",
      "loanid                  27713 non-null int64\n",
      "renterid                27713 non-null int64\n",
      "landlordid              27713 non-null int64\n",
      "cityid                  27713 non-null int64\n",
      "capitalamount           27713 non-null float64\n",
      "payfeeamount            27713 non-null float64\n",
      "deadline                27713 non-null object\n",
      "periodstage             27713 non-null int64\n",
      "lendamount              27713 non-null float64\n",
      "remainamount            27713 non-null float64\n",
      "lenddate                27713 non-null object\n",
      "subsid                  27709 non-null float64\n",
      "salecontractid          27709 non-null float64\n",
      "is_reservation          27713 non-null int64\n",
      "is_book                 27713 non-null int64\n",
      "reg_channel             27709 non-null float64\n",
      "is_changeroom           27709 non-null float64\n",
      "is_renew                27709 non-null float64\n",
      "leaseterm               0 non-null float64\n",
      "rentpaytype             27709 non-null float64\n",
      "has_emergencycontact    27713 non-null int64\n",
      "turnstrtus              27709 non-null float64\n",
      "deposit                 27294 non-null float64\n",
      "renterid(1)             27713 non-null int64\n",
      "age                     27713 non-null int64\n",
      "native_region           27713 non-null int64\n",
      "rentergender            27705 non-null float64\n",
      "zhimascore              27713 non-null int64\n",
      "has_relationaccount     27713 non-null int64\n",
      "channel                 27046 non-null float64\n",
      "createtime              27713 non-null object\n",
      "creditlimit             27713 non-null int64\n",
      "remaincreditamount      27713 non-null float64\n",
      "creditstatus            27713 non-null int64\n",
      "relationaccounttype     27713 non-null int64\n",
      "dtypes: float64(16), int64(18), object(3)\n",
      "memory usage: 7.5+ MB\n"
     ]
    }
   ],
   "source": [
    "data.info()"
   ]
  },
  {
   "cell_type": "code",
   "execution_count": 8,
   "metadata": {
    "collapsed": true
   },
   "outputs": [],
   "source": [
    "X=data[['capitalamount','payfeeamount','zhimascore']]"
   ]
  },
  {
   "cell_type": "code",
   "execution_count": 9,
   "metadata": {},
   "outputs": [
    {
     "data": {
      "text/html": [
       "<div>\n",
       "<style>\n",
       "    .dataframe thead tr:only-child th {\n",
       "        text-align: right;\n",
       "    }\n",
       "\n",
       "    .dataframe thead th {\n",
       "        text-align: left;\n",
       "    }\n",
       "\n",
       "    .dataframe tbody tr th {\n",
       "        vertical-align: top;\n",
       "    }\n",
       "</style>\n",
       "<table border=\"1\" class=\"dataframe\">\n",
       "  <thead>\n",
       "    <tr style=\"text-align: right;\">\n",
       "      <th></th>\n",
       "      <th>capitalamount</th>\n",
       "      <th>payfeeamount</th>\n",
       "      <th>zhimascore</th>\n",
       "    </tr>\n",
       "  </thead>\n",
       "  <tbody>\n",
       "    <tr>\n",
       "      <th>0</th>\n",
       "      <td>1608.00</td>\n",
       "      <td>49.31</td>\n",
       "      <td>693</td>\n",
       "    </tr>\n",
       "    <tr>\n",
       "      <th>1</th>\n",
       "      <td>586.66</td>\n",
       "      <td>17.80</td>\n",
       "      <td>662</td>\n",
       "    </tr>\n",
       "    <tr>\n",
       "      <th>2</th>\n",
       "      <td>586.66</td>\n",
       "      <td>17.80</td>\n",
       "      <td>671</td>\n",
       "    </tr>\n",
       "    <tr>\n",
       "      <th>3</th>\n",
       "      <td>487.33</td>\n",
       "      <td>14.95</td>\n",
       "      <td>698</td>\n",
       "    </tr>\n",
       "    <tr>\n",
       "      <th>4</th>\n",
       "      <td>950.00</td>\n",
       "      <td>29.14</td>\n",
       "      <td>688</td>\n",
       "    </tr>\n",
       "  </tbody>\n",
       "</table>\n",
       "</div>"
      ],
      "text/plain": [
       "   capitalamount  payfeeamount  zhimascore\n",
       "0        1608.00         49.31         693\n",
       "1         586.66         17.80         662\n",
       "2         586.66         17.80         671\n",
       "3         487.33         14.95         698\n",
       "4         950.00         29.14         688"
      ]
     },
     "execution_count": 9,
     "metadata": {},
     "output_type": "execute_result"
    }
   ],
   "source": [
    "X.head()"
   ]
  },
  {
   "cell_type": "code",
   "execution_count": 10,
   "metadata": {
    "collapsed": true
   },
   "outputs": [],
   "source": [
    "Y=data['overduestatus']"
   ]
  },
  {
   "cell_type": "code",
   "execution_count": 11,
   "metadata": {
    "collapsed": true
   },
   "outputs": [],
   "source": [
    "x_train,x_test,y_train,y_test=train_test_split(X,Y,test_size=0.25,random_state=0)"
   ]
  },
  {
   "cell_type": "code",
   "execution_count": 12,
   "metadata": {
    "collapsed": true
   },
   "outputs": [],
   "source": [
    "rd=RandomForestClassifier(n_estimators=10)  # 随机森林模型"
   ]
  },
  {
   "cell_type": "code",
   "execution_count": 13,
   "metadata": {},
   "outputs": [
    {
     "data": {
      "text/plain": [
       "RandomForestClassifier(bootstrap=True, class_weight=None, criterion='gini',\n",
       "            max_depth=None, max_features='auto', max_leaf_nodes=None,\n",
       "            min_impurity_decrease=0.0, min_impurity_split=None,\n",
       "            min_samples_leaf=1, min_samples_split=2,\n",
       "            min_weight_fraction_leaf=0.0, n_estimators=10, n_jobs=1,\n",
       "            oob_score=False, random_state=None, verbose=0,\n",
       "            warm_start=False)"
      ]
     },
     "execution_count": 13,
     "metadata": {},
     "output_type": "execute_result"
    }
   ],
   "source": [
    "rd.fit(x_train,y_train)"
   ]
  },
  {
   "cell_type": "code",
   "execution_count": 14,
   "metadata": {},
   "outputs": [
    {
     "data": {
      "text/plain": [
       "0.90907778900274205"
      ]
     },
     "execution_count": 14,
     "metadata": {},
     "output_type": "execute_result"
    }
   ],
   "source": [
    "rd.score(x_test,y_test)"
   ]
  },
  {
   "cell_type": "code",
   "execution_count": 15,
   "metadata": {
    "collapsed": true
   },
   "outputs": [],
   "source": [
    "rd2=RandomForestClassifier()"
   ]
  },
  {
   "cell_type": "code",
   "execution_count": 16,
   "metadata": {
    "collapsed": true
   },
   "outputs": [],
   "source": [
    "param={'max_depth':[5,8,15,25,30],'n_estimators':[120,200,300,500,800]}"
   ]
  },
  {
   "cell_type": "code",
   "execution_count": 17,
   "metadata": {
    "collapsed": true
   },
   "outputs": [],
   "source": [
    "gs=GridSearchCV(rd2,param_grid=param,cv=5)  # cv=5 5折交叉验证"
   ]
  },
  {
   "cell_type": "code",
   "execution_count": 18,
   "metadata": {},
   "outputs": [
    {
     "data": {
      "text/plain": [
       "GridSearchCV(cv=5, error_score='raise',\n",
       "       estimator=RandomForestClassifier(bootstrap=True, class_weight=None, criterion='gini',\n",
       "            max_depth=None, max_features='auto', max_leaf_nodes=None,\n",
       "            min_impurity_decrease=0.0, min_impurity_split=None,\n",
       "            min_samples_leaf=1, min_samples_split=2,\n",
       "            min_weight_fraction_leaf=0.0, n_estimators=10, n_jobs=1,\n",
       "            oob_score=False, random_state=None, verbose=0,\n",
       "            warm_start=False),\n",
       "       fit_params=None, iid=True, n_jobs=1,\n",
       "       param_grid={'max_depth': [5, 8, 15, 25, 30], 'n_estimators': [120, 200, 300, 500, 800]},\n",
       "       pre_dispatch='2*n_jobs', refit=True, return_train_score='warn',\n",
       "       scoring=None, verbose=0)"
      ]
     },
     "execution_count": 18,
     "metadata": {},
     "output_type": "execute_result"
    }
   ],
   "source": [
    "gs.fit(x_train,y_train)"
   ]
  },
  {
   "cell_type": "code",
   "execution_count": 19,
   "metadata": {},
   "outputs": [
    {
     "data": {
      "text/plain": [
       "{'max_depth': 8, 'n_estimators': 300}"
      ]
     },
     "execution_count": 19,
     "metadata": {},
     "output_type": "execute_result"
    }
   ],
   "source": [
    "gs.best_params_"
   ]
  },
  {
   "cell_type": "code",
   "execution_count": 20,
   "metadata": {},
   "outputs": [
    {
     "data": {
      "text/plain": [
       "0.92336556501659695"
      ]
     },
     "execution_count": 20,
     "metadata": {},
     "output_type": "execute_result"
    }
   ],
   "source": [
    "gs.score(x_test,y_test)"
   ]
  },
  {
   "cell_type": "code",
   "execution_count": 21,
   "metadata": {
    "collapsed": true
   },
   "outputs": [],
   "source": [
    "# 逻辑回归\n",
    "lg=LogisticRegression()"
   ]
  },
  {
   "cell_type": "code",
   "execution_count": 22,
   "metadata": {},
   "outputs": [
    {
     "data": {
      "text/plain": [
       "LogisticRegression(C=1.0, class_weight=None, dual=False, fit_intercept=True,\n",
       "          intercept_scaling=1, max_iter=100, multi_class='ovr', n_jobs=1,\n",
       "          penalty='l2', random_state=None, solver='liblinear', tol=0.0001,\n",
       "          verbose=0, warm_start=False)"
      ]
     },
     "execution_count": 22,
     "metadata": {},
     "output_type": "execute_result"
    }
   ],
   "source": [
    "lg.fit(x_train,y_train)"
   ]
  },
  {
   "cell_type": "code",
   "execution_count": 23,
   "metadata": {},
   "outputs": [
    {
     "data": {
      "text/plain": [
       "0.91730408428344634"
      ]
     },
     "execution_count": 23,
     "metadata": {},
     "output_type": "execute_result"
    }
   ],
   "source": [
    "lg.score(x_test,y_test)"
   ]
  },
  {
   "cell_type": "code",
   "execution_count": 24,
   "metadata": {},
   "outputs": [
    {
     "name": "stdout",
     "output_type": "stream",
     "text": [
      "[0 0 0 ..., 0 0 0]\n"
     ]
    }
   ],
   "source": [
    "print(gs.predict(x_test))  # 预测结果"
   ]
  },
  {
   "cell_type": "code",
   "execution_count": null,
   "metadata": {
    "collapsed": true
   },
   "outputs": [],
   "source": []
  }
 ],
 "metadata": {
  "kernelspec": {
   "display_name": "Python 3",
   "language": "python",
   "name": "python3"
  },
  "language_info": {
   "codemirror_mode": {
    "name": "ipython",
    "version": 3
   },
   "file_extension": ".py",
   "mimetype": "text/x-python",
   "name": "python",
   "nbconvert_exporter": "python",
   "pygments_lexer": "ipython3",
   "version": "3.6.3"
  }
 },
 "nbformat": 4,
 "nbformat_minor": 2
}
